{
 "cells": [
  {
   "cell_type": "markdown",
   "metadata": {},
   "source": [
    "# datetime模块\n",
    ">datetime模块是个合集,分别有date、 datetime、 time、 timedelta、 tzinfo五个类，这里主要看datetime类"
   ]
  },
  {
   "cell_type": "code",
   "execution_count": 1,
   "metadata": {},
   "outputs": [],
   "source": [
    "from datetime import*"
   ]
  },
  {
   "cell_type": "markdown",
   "metadata": {},
   "source": [
    "## datetime类"
   ]
  },
  {
   "cell_type": "markdown",
   "metadata": {},
   "source": [
    "1. 设置时间元组"
   ]
  },
  {
   "cell_type": "code",
   "execution_count": 20,
   "metadata": {},
   "outputs": [
    {
     "name": "stdout",
     "output_type": "stream",
     "text": [
      "年份为:  2018\n",
      "日期为:  11\n"
     ]
    }
   ],
   "source": [
    "d=datetime(2018,2,11,22,23,15)\n",
    "print('年份为: ', d.year)\n",
    "print('日期为: ', d.day)"
   ]
  },
  {
   "cell_type": "markdown",
   "metadata": {},
   "source": [
    "2. datetime按自定义格式返回str\n",
    ">%y 两位数年份表示(00-99)\n",
    ">\n",
    ">%Y 四位数年份表示(0000-9999)\n",
    ">\n",
    ">%j 一年里的一天"
   ]
  },
  {
   "cell_type": "code",
   "execution_count": 22,
   "metadata": {},
   "outputs": [
    {
     "name": "stdout",
     "output_type": "stream",
     "text": [
      "2018-02-11 22:23:15\n",
      "18\n",
      "2018-02\n",
      "042\n"
     ]
    }
   ],
   "source": [
    "print(d)\n",
    "print(d.strftime('%y'))\n",
    "print(d.strftime('%Y-%m'))\n",
    "print(d.strftime('%j'))"
   ]
  },
  {
   "cell_type": "markdown",
   "metadata": {},
   "source": [
    "3. str按自定义格式返回datetime"
   ]
  },
  {
   "cell_type": "code",
   "execution_count": 23,
   "metadata": {},
   "outputs": [
    {
     "data": {
      "text/plain": [
       "datetime.datetime(2015, 8, 9, 0, 0)"
      ]
     },
     "execution_count": 23,
     "metadata": {},
     "output_type": "execute_result"
    }
   ],
   "source": [
    "s='2015-08-09'\n",
    "date=datetime.strptime(s, '%Y-%m-%d')\n",
    "date"
   ]
  }
 ],
 "metadata": {
  "kernelspec": {
   "display_name": "Python 3",
   "language": "python",
   "name": "python3"
  },
  "language_info": {
   "codemirror_mode": {
    "name": "ipython",
    "version": 3
   },
   "file_extension": ".py",
   "mimetype": "text/x-python",
   "name": "python",
   "nbconvert_exporter": "python",
   "pygments_lexer": "ipython3",
   "version": "3.5.5"
  }
 },
 "nbformat": 4,
 "nbformat_minor": 2
}
