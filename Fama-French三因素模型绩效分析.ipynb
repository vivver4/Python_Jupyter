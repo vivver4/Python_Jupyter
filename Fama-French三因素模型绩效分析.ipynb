{
 "cells": [
  {
   "cell_type": "code",
   "execution_count": 1,
   "metadata": {},
   "outputs": [],
   "source": [
    "import pandas as pd\n",
    "from pandas import Series,DataFrame\n",
    "import matplotlib.pyplot as plt\n",
    "import numpy as np\n",
    "import statsmodels.api as sm"
   ]
  },
  {
   "cell_type": "markdown",
   "metadata": {},
   "source": [
    "# 获取数据"
   ]
  },
  {
   "cell_type": "markdown",
   "metadata": {},
   "source": [
    "1. 得到回归左边的Y"
   ]
  },
  {
   "cell_type": "code",
   "execution_count": 2,
   "metadata": {},
   "outputs": [],
   "source": [
    "df_return_1qi=pd.read_csv('../RawData/1Qi_dianwei.csv', index_col=0).pct_change().dropna()"
   ]
  },
  {
   "cell_type": "markdown",
   "metadata": {},
   "source": [
    "2. 得到无风险利率rf"
   ]
  },
  {
   "cell_type": "code",
   "execution_count": 3,
   "metadata": {},
   "outputs": [],
   "source": [
    "rf=get_yield_curve(start_date='20180504',end_date='20180709',tenor=None)['0S']\n",
    "series_rf=(rf+1)**(1/244)-1"
   ]
  },
  {
   "cell_type": "markdown",
   "metadata": {},
   "source": [
    "3. 得到rm"
   ]
  },
  {
   "cell_type": "code",
   "execution_count": 4,
   "metadata": {},
   "outputs": [],
   "source": [
    "'''\n",
    "这里多出的步骤主要是为了将series转为dataframe\n",
    "'''\n",
    "rm = get_price_change_rate('000300.XSHG',start_date='20180504', end_date='20180709')           \n",
    "df_return_rm=pd.DataFrame()\n",
    "df_return_rm['000300.XSHG']=rm[:].values\n",
    "df_return_rm.index=rm.index.values                                                         \n"
   ]
  },
  {
   "cell_type": "markdown",
   "metadata": {},
   "source": [
    "4. 得到rb"
   ]
  },
  {
   "cell_type": "code",
   "execution_count": 5,
   "metadata": {},
   "outputs": [],
   "source": [
    "rb=(df_return_rm['000300.XSHG']-series_rf).dropna()"
   ]
  },
  {
   "cell_type": "markdown",
   "metadata": {},
   "source": [
    "5. 得到所有股票的市值和bp值"
   ]
  },
  {
   "cell_type": "code",
   "execution_count": 6,
   "metadata": {},
   "outputs": [],
   "source": [
    "df_all_stocks_data = get_fundamentals(\n",
    "    query(\n",
    "        fundamentals.eod_derivative_indicator.pb_ratio,\n",
    "        fundamentals.eod_derivative_indicator.market_cap)\n",
    "    , '20171229', interval = '1d' ,report_quarter = False)\n",
    "df_all_stocks_data = df_all_stocks_data.major_xs(df_all_stocks_data.major_axis[0])\n",
    "df_all_stocks_data['bp_ratio'] = 1/df_all_stocks_data['pb_ratio']\n",
    "del df_all_stocks_data['pb_ratio']\n",
    "df_all_stocks_data = df_all_stocks_data.dropna(how = 'any')\n",
    "df_return_all_stocks=get_price_change_rate(list(df_all_stocks_data.index),start_date='20180504', end_date='20180709')\n",
    "'''\n",
    "用了多余步骤去复制dataframe，可能是因为不知道可变对象的deepcopy复制,目的是为了删除df_all_stocks_data中没有return数据的股票\n",
    "'''\n",
    "columns=df_return_all_stocks.columns\n",
    "index=df_return_all_stocks.index.tolist()\n",
    "df_return_all_stocks_2=pd.DataFrame(df_return_all_stocks.values, columns=[columns],index=[index])\n",
    "test=df_return_all_stocks_2.T.dropna(how='any').T\n",
    "stock_need_drop = list(set(df_return_all_stocks_2.columns).difference(set(test.columns)))\n",
    "df_all_stocks_data=df_all_stocks_data.T\n",
    "for stocks in stock_need_drop:\n",
    "    for stock in stocks:                                 #因为返回的是一个类似[('a',)]的结构\n",
    "        del df_all_stocks_data[stock]"
   ]
  },
  {
   "cell_type": "markdown",
   "metadata": {},
   "source": [
    "6. 得到S；B；L；M；H的股票分类    "
   ]
  },
  {
   "cell_type": "markdown",
   "metadata": {},
   "source": [
    "# 处理数据"
   ]
  },
  {
   "cell_type": "markdown",
   "metadata": {},
   "source": [
    "1. 计算SL;SM;SH;BL;BM;BH的股票组合和股票收益"
   ]
  },
  {
   "cell_type": "code",
   "execution_count": 7,
   "metadata": {},
   "outputs": [],
   "source": [
    "df_all_stocks_data=df_all_stocks_data.T\n",
    "df_all_stocks_data = df_all_stocks_data.sort_values('market_cap') #市值升序排布\n",
    "S = df_all_stocks_data.index[:int(len(df_all_stocks_data.index)/2)]\n",
    "B = df_all_stocks_data.index[int(len(df_all_stocks_data.index)/2):]\n",
    "df_all_stocks_data = df_all_stocks_data.sort_values('bp_ratio') #净市率升序排列\n",
    "L = df_all_stocks_data.index[:int(len(df_all_stocks_data.index)*0.3)]\n",
    "M = df_all_stocks_data.index[int(len(df_all_stocks_data.index)*0.3):int(len(df_all_stocks_data.index)*0.7)]\n",
    "H = df_all_stocks_data.index[int(len(df_all_stocks_data.index)*0.7):]\n",
    "portfolio = {}\n",
    "portfolio['SL'] = list(set(S).intersection(set(L)))\n",
    "portfolio['SM'] = list(set(S).intersection(set(M)))\n",
    "portfolio['SH'] = list(set(S).intersection(set(H)))\n",
    "portfolio['BL'] = list(set(B).intersection(set(L)))\n",
    "portfolio['BM'] = list(set(B).intersection(set(M)))\n",
    "portfolio['BH'] = list(set(B).intersection(set(H)))\n",
    "\n",
    "portfolio_return = {}\n",
    "for por in portfolio:\n",
    "    sector_return = 0\n",
    "    for stock in portfolio[por]:\n",
    "        sector_return += df_all_stocks_data['market_cap'][stock]*test[stock].values\n",
    "    portfolio_return[por] = sector_return/np.sum(df_all_stocks_data['market_cap'][portfolio[por]])"
   ]
  },
  {
   "cell_type": "markdown",
   "metadata": {},
   "source": [
    "2. 计算HML; BMS的因子"
   ]
  },
  {
   "cell_type": "code",
   "execution_count": 8,
   "metadata": {},
   "outputs": [
    {
     "name": "stdout",
     "output_type": "stream",
     "text": [
      "ok\n"
     ]
    }
   ],
   "source": [
    "BMS = -(portfolio_return['SL']+portfolio_return['SM']+portfolio_return['SH'])/3+(portfolio_return['BL']+portfolio_return['BM']+portfolio_return['BH'])/3\n",
    "HML = -(portfolio_return['SH']+portfolio_return['BH'])/2+(portfolio_return['SL']+portfolio_return['BL'])/2\n",
    "BMS_cu=pd.Series(index=df_return_all_stocks.index)\n",
    "HML_cu = BMS_cu.copy()\n",
    "\n",
    "for i in range(len(BMS)):\n",
    "    if i == 0:\n",
    "        print(\"ok\")\n",
    "        BMS_cu[i] = 1+BMS[i]\n",
    "        HML_cu[i] = 1+HML[i]\n",
    "    else:\n",
    "        BMS_cu[i] = BMS_cu[i-1]*(BMS[i]+1)\n",
    "        HML_cu[i] = HML_cu[i-1]*(HML[i]+1)"
   ]
  },
  {
   "cell_type": "markdown",
   "metadata": {},
   "source": [
    "3. 绘制"
   ]
  },
  {
   "cell_type": "code",
   "execution_count": 9,
   "metadata": {},
   "outputs": [
    {
     "data": {
      "text/plain": [
       "<matplotlib.legend.Legend at 0x7fbe9d946748>"
      ]
     },
     "execution_count": 9,
     "metadata": {},
     "output_type": "execute_result"
    },
    {
     "data": {
      "image/png": "[encoded data removed]",
      "text/plain": [
       "<Figure size 432x288 with 1 Axes>"
      ]
     },
     "metadata": {},
     "output_type": "display_data"
    }
   ],
   "source": [
    "df2 = pd.DataFrame()\n",
    "df2['BMS_cu'] = BMS_cu\n",
    "df2['HML_cu'] = HML_cu\n",
    "plt.plot(df2['BMS_cu'],label='市值因子累计收益')\n",
    "plt.plot(df2['HML_cu'],label='成长因子累计收益')\n",
    "plt.legend()"
   ]
  },
  {
   "cell_type": "markdown",
   "metadata": {},
   "source": [
    "4. 回归"
   ]
  },
  {
   "cell_type": "code",
   "execution_count": 10,
   "metadata": {},
   "outputs": [
    {
     "data": {
      "text/html": [
       "<table class=\"simpletable\">\n",
       "<caption>OLS Regression Results</caption>\n",
       "<tr>\n",
       "  <th>Dep. Variable:</th>            <td>y</td>        <th>  R-squared:         </th> <td>   0.832</td>\n",
       "</tr>\n",
       "<tr>\n",
       "  <th>Model:</th>                   <td>OLS</td>       <th>  Adj. R-squared:    </th> <td>   0.820</td>\n",
       "</tr>\n",
       "<tr>\n",
       "  <th>Method:</th>             <td>Least Squares</td>  <th>  F-statistic:       </th> <td>   69.33</td>\n",
       "</tr>\n",
       "<tr>\n",
       "  <th>Date:</th>             <td>Wed, 14 Nov 2018</td> <th>  Prob (F-statistic):</th> <td>2.60e-16</td>\n",
       "</tr>\n",
       "<tr>\n",
       "  <th>Time:</th>                 <td>13:12:40</td>     <th>  Log-Likelihood:    </th> <td>  151.10</td>\n",
       "</tr>\n",
       "<tr>\n",
       "  <th>No. Observations:</th>      <td>    46</td>      <th>  AIC:               </th> <td>  -294.2</td>\n",
       "</tr>\n",
       "<tr>\n",
       "  <th>Df Residuals:</th>          <td>    42</td>      <th>  BIC:               </th> <td>  -286.9</td>\n",
       "</tr>\n",
       "<tr>\n",
       "  <th>Df Model:</th>              <td>     3</td>      <th>                     </th>     <td> </td>   \n",
       "</tr>\n",
       "<tr>\n",
       "  <th>Covariance Type:</th>      <td>nonrobust</td>    <th>                     </th>     <td> </td>   \n",
       "</tr>\n",
       "</table>\n",
       "<table class=\"simpletable\">\n",
       "<tr>\n",
       "    <td></td>       <th>coef</th>     <th>std err</th>      <th>t</th>      <th>P>|t|</th>  <th>[0.025</th>    <th>0.975]</th>  \n",
       "</tr>\n",
       "<tr>\n",
       "  <th>const</th> <td>    0.0020</td> <td>    0.001</td> <td>    1.368</td> <td> 0.178</td> <td>   -0.001</td> <td>    0.005</td>\n",
       "</tr>\n",
       "<tr>\n",
       "  <th>Rb</th>    <td>    1.5588</td> <td>    0.118</td> <td>   13.159</td> <td> 0.000</td> <td>    1.320</td> <td>    1.798</td>\n",
       "</tr>\n",
       "<tr>\n",
       "  <th>BMS</th>   <td>    0.7386</td> <td>    0.192</td> <td>    3.840</td> <td> 0.000</td> <td>    0.350</td> <td>    1.127</td>\n",
       "</tr>\n",
       "<tr>\n",
       "  <th>HML</th>   <td>    0.3002</td> <td>    0.287</td> <td>    1.046</td> <td> 0.302</td> <td>   -0.279</td> <td>    0.880</td>\n",
       "</tr>\n",
       "</table>\n",
       "<table class=\"simpletable\">\n",
       "<tr>\n",
       "  <th>Omnibus:</th>       <td> 5.388</td> <th>  Durbin-Watson:     </th> <td>   1.892</td>\n",
       "</tr>\n",
       "<tr>\n",
       "  <th>Prob(Omnibus):</th> <td> 0.068</td> <th>  Jarque-Bera (JB):  </th> <td>   4.303</td>\n",
       "</tr>\n",
       "<tr>\n",
       "  <th>Skew:</th>          <td> 0.556</td> <th>  Prob(JB):          </th> <td>   0.116</td>\n",
       "</tr>\n",
       "<tr>\n",
       "  <th>Kurtosis:</th>      <td> 4.005</td> <th>  Cond. No.          </th> <td>    228.</td>\n",
       "</tr>\n",
       "</table>"
      ],
      "text/plain": [
       "<class 'statsmodels.iolib.summary.Summary'>\n",
       "\"\"\"\n",
       "                            OLS Regression Results                            \n",
       "==============================================================================\n",
       "Dep. Variable:                      y   R-squared:                       0.832\n",
       "Model:                            OLS   Adj. R-squared:                  0.820\n",
       "Method:                 Least Squares   F-statistic:                     69.33\n",
       "Date:                Wed, 14 Nov 2018   Prob (F-statistic):           2.60e-16\n",
       "Time:                        13:12:40   Log-Likelihood:                 151.10\n",
       "No. Observations:                  46   AIC:                            -294.2\n",
       "Df Residuals:                      42   BIC:                            -286.9\n",
       "Df Model:                           3                                         \n",
       "Covariance Type:            nonrobust                                         \n",
       "==============================================================================\n",
       "                 coef    std err          t      P>|t|      [0.025      0.975]\n",
       "------------------------------------------------------------------------------\n",
       "const          0.0020      0.001      1.368      0.178      -0.001       0.005\n",
       "Rb             1.5588      0.118     13.159      0.000       1.320       1.798\n",
       "BMS            0.7386      0.192      3.840      0.000       0.350       1.127\n",
       "HML            0.3002      0.287      1.046      0.302      -0.279       0.880\n",
       "==============================================================================\n",
       "Omnibus:                        5.388   Durbin-Watson:                   1.892\n",
       "Prob(Omnibus):                  0.068   Jarque-Bera (JB):                4.303\n",
       "Skew:                           0.556   Prob(JB):                        0.116\n",
       "Kurtosis:                       4.005   Cond. No.                         228.\n",
       "==============================================================================\n",
       "\n",
       "Warnings:\n",
       "[1] Standard Errors assume that the covariance matrix of the errors is correctly specified.\n",
       "\"\"\""
      ]
     },
     "execution_count": 10,
     "metadata": {},
     "output_type": "execute_result"
    }
   ],
   "source": [
    "X = pd.DataFrame()\n",
    "X['Rb'] = np.array(rb)\n",
    "X['BMS'] = np.array(BMS)\n",
    "X['HML'] = np.array(HML)\n",
    "\n",
    "X = sm.add_constant(X)\n",
    "\n",
    "Y = np.array(df_return_1qi)\n",
    "est=sm.OLS(Y,X).fit()\n",
    "est.summary()"
   ]
  }
 ],
 "metadata": {
  "kernelspec": {
   "display_name": "Python 3",
   "language": "python",
   "name": "python3"
  },
  "language_info": {
   "codemirror_mode": {
    "name": "ipython",
    "version": 3
   },
   "file_extension": ".py",
   "mimetype": "text/x-python",
   "name": "python",
   "nbconvert_exporter": "python",
   "pygments_lexer": "ipython3",
   "version": "3.5.5"
  }
 },
 "nbformat": 4,
 "nbformat_minor": 2
}
