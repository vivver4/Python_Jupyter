{
 "cells": [
  {
   "cell_type": "code",
   "execution_count": 17,
   "metadata": {},
   "outputs": [
    {
     "data": {
      "text/plain": [
       "6q    -0.312019\n",
       "sg    -0.301463\n",
       "cyb   -0.365934\n",
       "dtype: float64"
      ]
     },
     "execution_count": 17,
     "metadata": {},
     "output_type": "execute_result"
    }
   ],
   "source": [
    "import pandas as pd\n",
    "\n",
    "df=pd.read_csv('../RawData/Maxmium Drawback Data.csv', index_col=0)\n",
    "withdraw_dataframe=pd.DataFrame()               #整合的回撤Dataframe\n",
    "\n",
    "for c in df.columns:     '''\n",
    "                         遍历每一列，也就是分别遍历6期净值，上证净值，创业板净值，\n",
    "                         df[[c]]保证返回的是Dataframe，便于操作\n",
    "                         '''\n",
    "    df_single=df[[c]]\n",
    "    max_point=df_single.iloc[0,0]\n",
    "    withdraw_list=[]\n",
    "    for i in range(len(df_single.index)):\n",
    "        if df_single.iloc[i].values>max_point:\n",
    "            max_point=df_single.iloc[i].values\n",
    "            withdraw=0\n",
    "            withdraw_list.append(withdraw)\n",
    "        else:\n",
    "            withdraw=(df_single.iloc[i].values-max_point)/max_point\n",
    "            withdraw_list.append(withdraw)\n",
    "    withdraw_dataframe[c]=withdraw_list\n",
    "withdraw_dataframe.min()"
   ]
  },
  {
   "cell_type": "code",
   "execution_count": null,
   "metadata": {},
   "outputs": [],
   "source": []
  }
 ],
 "metadata": {
  "kernelspec": {
   "display_name": "Python 3",
   "language": "python",
   "name": "python3"
  },
  "language_info": {
   "codemirror_mode": {
    "name": "ipython",
    "version": 3
   },
   "file_extension": ".py",
   "mimetype": "text/x-python",
   "name": "python",
   "nbconvert_exporter": "python",
   "pygments_lexer": "ipython3",
   "version": "3.5.5"
  }
 },
 "nbformat": 4,
 "nbformat_minor": 2
}
